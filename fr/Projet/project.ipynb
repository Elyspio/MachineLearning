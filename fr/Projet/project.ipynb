{
 "cells": [
  {
   "cell_type": "markdown",
   "metadata": {},
   "source": [
    "# Projet de DataMining\n",
    "\n",
    "Ce fichier jupyter ne contient que le code pour déclencher la récupération des données, leur classification ainsi que l'utilisation du système de recommandation des images.\n",
    "\n",
    "Pour de plus amples détails sur chaques fonctions nous vous invitons à vous reporter à la documentation présente dans le code."
   ]
  },
  {
   "cell_type": "markdown",
   "metadata": {},
   "source": [
    "## Récupération des images et classification"
   ]
  },
  {
   "cell_type": "code",
   "execution_count": null,
   "metadata": {
    "pycharm": {
     "name": "#%%\n"
    }
   },
   "outputs": [],
   "source": [
    "from get_images import get_images\n",
    "\n",
    "get_images()\n"
   ]
  },
  {
   "cell_type": "markdown",
   "metadata": {},
   "source": [
    "## Système de recommandation"
   ]
  },
  {
   "cell_type": "code",
   "execution_count": 2,
   "metadata": {
    "pycharm": {
     "name": "#%%\n"
    }
   },
   "outputs": [
    {
     "name": "stdout",
     "output_type": "stream",
     "text": [
      "L'utilisateur va apprécier l'image 683px-Linnutee_-_Milky_Way_%289%29_copy.jpg\n",
      "L'utilisateur va apprécier l'image 528px-2008-08-01_Solar_eclipse_progression.jpg\n",
      "L'utilisateur va apprécier l'image 300px-The_star_formation_region_NGC_3324.jpg\n",
      "L'utilisateur ne va pas apprécier l'image 450px-Super_moon_over_City_of_London_from_Tate_Modern_2018-01-31_6.jpg\n",
      "L'utilisateur ne va pas apprécier l'image 310px-Messier_78.jpg\n",
      "L'utilisateur ne va pas apprécier l'image 450px-PIA11178_-_The_Contrasting_Colors_of_Crater_Dunes_and_Gullies.jpg\n",
      "L'utilisateur ne va pas apprécier l'image 1907px-Victoria_Crater%2C_Cape_Verde-Mars.jpg\n",
      "L'utilisateur ne va pas apprécier l'image 297px-Full_Moon_Luc_Viatour.jpg\n",
      "L'utilisateur ne va pas apprécier l'image 302px-Africa_and_Europe_from_a_Million_Miles_Away.png\n",
      "L'utilisateur ne va pas apprécier l'image 511px-W5_cropped.jpg\n",
      "L'utilisateur va apprécier l'image 269px-Stephan%27s_Quintet_Hubble_2009.full.jpg\n",
      "L'utilisateur va apprécier l'image 199px-Bunker_under_the_Milky_Way.jpg\n",
      "L'utilisateur ne va pas apprécier l'image 240px-Nord_america.jpg\n",
      "L'utilisateur va apprécier l'image 300px-V838_Mon_HST.jpg\n",
      "L'utilisateur ne va pas apprécier l'image 244px-VISTA%27s_infrared_view_of_the_Orion_Nebula.jpg\n",
      "L'utilisateur ne va pas apprécier l'image 308px-Different_Slant_on_Orion_%28495636660%29.jpg\n",
      "L'utilisateur va apprécier l'image 203px-Mercury%2C_Venus_and_the_Moon_Align.jpg\n",
      "L'utilisateur ne va pas apprécier l'image 526px-Hubble2005-01-barred-spiral-galaxy-NGC1300.jpg\n",
      "L'utilisateur va apprécier l'image 300px-Lunar_eclipse_04-15-2014_by_R_Jay_GaBany.jpg\n",
      "L'utilisateur ne va pas apprécier l'image 416px-Milky_Way_IR_Spitzer.jpg\n",
      "L'utilisateur va apprécier l'image 300px-NASA-Apollo8-Dec24-Earthrise.jpg\n",
      "L'utilisateur ne va pas apprécier l'image 393px-Cygnus-Wall.jpg\n",
      "L'utilisateur va apprécier l'image 587px-Saturn_from_Cassini_Orbiter_%282004-10-06%29.jpg\n",
      "L'utilisateur va apprécier l'image 496px-ESO_-_The_Carina_Nebula_%28by%29.jpg\n",
      "L'utilisateur ne va pas apprécier l'image 148px-Fairy_of_Eagle_Nebula.jpg\n",
      "L'utilisateur va apprécier l'image 676px-VISTA%27s_infrared_view_of_the_Lagoon_Nebula_%28Messier_8%29.jpg\n",
      "L'utilisateur ne va pas apprécier l'image 401px-NASA_Unveils_Celestial_Fireworks_as_Official_Hubble_25th_Anniversary_Image.jpg\n",
      "L'utilisateur va apprécier l'image 240px-Portrait_of_Jupiter_from_Cassini.jpg\n",
      "L'utilisateur ne va pas apprécier l'image 300px-Io_highest_resolution_true_color.jpg\n",
      "L'utilisateur va apprécier l'image 450px-Full_moon_partially_obscured_by_atmosphere.jpg\n",
      "L'utilisateur ne va pas apprécier l'image 300px-Iapetus_as_seen_by_the_Cassini_probe_-_20071008.jpg\n",
      "L'utilisateur va apprécier l'image 300px-2012_Transit_of_Venus_from_SF.jpg\n",
      "L'utilisateur va apprécier l'image 278px-NGC7293_%282004%29.jpg\n",
      "L'utilisateur va apprécier l'image 583px-NGC_300_X-1_in_the_spiral_galaxy_NGC_300_%28ESO_1004b%29.jpg\n",
      "L'utilisateur va apprécier l'image 457px-Andromeda_Galaxy_%28with_h-alpha%29.jpg\n",
      "L'utilisateur va apprécier l'image 300px-Solar_Eclipse_May_20%2C2012.jpg\n",
      "L'utilisateur ne va pas apprécier l'image 645px-Saturn%27s_Rings_in_Ultraviolet_Light.png\n",
      "L'utilisateur va apprécier l'image 296px-Black_Hole_Outflows_From_Centaurus_A.jpg\n",
      "L'utilisateur va apprécier l'image 720px-PIA17218_%E2%80%93_A_Farewell_to_Saturn%2C_Brightened_Version.jpg\n",
      "L'utilisateur ne va pas apprécier l'image 580px-NGC_2683_Spiral_galaxy.jpg\n",
      "L'utilisateur va apprécier l'image 600px-ESO_-_Milky_Way.jpg\n",
      "L'utilisateur va apprécier l'image 400px-Saturn_with_auroras.jpg\n",
      "L'utilisateur ne va pas apprécier l'image 534px-2017-04_Circumpolar_trails_sunset_at_La_Hague_lighthouse.jpg\n",
      "L'utilisateur ne va pas apprécier l'image 2006px-Saturn%27s_rings_in_visible_light_and_radio.jpg\n",
      "L'utilisateur ne va pas apprécier l'image 1098px-Spirit%27s_West_Valley_Panorama_%28PIA10216%29.jpg\n",
      "L'utilisateur va apprécier l'image 300px-NGC_2467_and_Surroundings.jpg\n",
      "L'utilisateur ne va pas apprécier l'image 400px-Jewel_of_the_Solar_System.jpg\n",
      "L'utilisateur va apprécier l'image 480px-PIA22349_%E2%80%93_Gullies_of_Matara_Crater.jpg\n",
      "L'utilisateur va apprécier l'image 988px-360-degree_Panorama_of_the_Southern_Sky.jpg\n",
      "L'utilisateur ne va pas apprécier l'image 200px-Gazing_at_the_Milky_Way_Morvan_2019-08-31.jpg\n"
     ]
    }
   ],
   "source": [
    "from get_user_preferences import get_user_preferences, get_estimator, get_prediction\n",
    "from util import get_random_images\n",
    "\n",
    "# Génération d'un utilisateur au comportement aléatoire\n",
    "imgs, results = get_user_preferences(120)\n",
    "\n",
    "# Sélection de 10 images prises au hasard\n",
    "test_dataset = get_random_images(50)\n",
    "\n",
    "estimator, les = get_estimator((imgs, results), test_dataset)\n",
    "\n",
    "\n",
    "for img in test_dataset:\n",
    "    liked = get_prediction(estimator, les, img)\n",
    "    print(f\"L'utilisateur {('ne va pas', 'va')[liked]} apprécier l'image {img}\")\n",
    "\n"
   ]
  }
 ],
 "metadata": {
  "kernelspec": {
   "display_name": "Python 3",
   "language": "python",
   "name": "python3"
  },
  "language_info": {
   "codemirror_mode": {
    "name": "ipython",
    "version": 3
   },
   "file_extension": ".py",
   "mimetype": "text/x-python",
   "name": "python",
   "nbconvert_exporter": "python",
   "pygments_lexer": "ipython3",
   "version": "3.9.1"
  }
 },
 "nbformat": 4,
 "nbformat_minor": 1
}